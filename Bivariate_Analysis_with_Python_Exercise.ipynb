{
 "cells": [
  {
   "cell_type": "code",
   "execution_count": null,
   "source": [],
   "outputs": [],
   "metadata": {}
  },
  {
   "cell_type": "markdown",
   "source": [
    "<font color=\"green\">*To start working on this notebook, or any other notebook that we will use in the Moringa Data Science Course, we will need to save our own copy of it. We can do this by clicking File > Save a Copy in Drive. We will then be able to make edits to our own copy of this notebook.*</font>"
   ],
   "metadata": {
    "id": "fOOkSTsJy1PY"
   }
  },
  {
   "cell_type": "markdown",
   "source": [
    "# Bivariate Analysis with Python - Exercise"
   ],
   "metadata": {
    "id": "_7HV1W96p9Pa"
   }
  },
  {
   "cell_type": "markdown",
   "source": [
    "## Introduction"
   ],
   "metadata": {
    "id": "R-LF2g-wFZAy"
   }
  },
  {
   "cell_type": "markdown",
   "source": [
    "This type of data involves two different variables. The analysis of this type of data deals with causes and relationships between two variables."
   ],
   "metadata": {
    "id": "UhtjDiVhUeGj"
   }
  },
  {
   "cell_type": "code",
   "execution_count": 1,
   "source": [
    "# Importing Numpy\r\n",
    "import numpy as np\r\n",
    "\r\n",
    "# Importing Pandas\r\n",
    "import pandas as pd\r\n",
    "\r\n",
    "# Importing Matplotlib\r\n",
    "import matplotlib.pyplot as plt\r\n",
    "\r\n",
    "# Importing Seaborn\r\n",
    "import seaborn as sns"
   ],
   "outputs": [],
   "metadata": {
    "id": "As8F2H5bYyzO"
   }
  },
  {
   "cell_type": "markdown",
   "source": [
    "## 1.0 Numerical and Numerical"
   ],
   "metadata": {
    "id": "J5_LC2_Crgta"
   }
  },
  {
   "cell_type": "markdown",
   "source": [
    "### 1.01 Scatter Plots"
   ],
   "metadata": {
    "id": "z0Ka3v_5r6nN"
   }
  },
  {
   "cell_type": "markdown",
   "source": [
    "The simplest bivariate plot is the scatter plot. A simple scatter plot simply maps each variable of interest to a point in two-dimensional space. "
   ],
   "metadata": {
    "id": "SqRBkR-ld--C"
   }
  },
  {
   "cell_type": "code",
   "execution_count": 2,
   "source": [
    "# Example 1\n",
    "# ---\n",
    "# Question: Create a scatter plot between the cypress tree and clearfell stampage trees\n",
    "# Dataset url  = http://bit.ly/CypressTimberStampageFeesDataset\n",
    "# Dataset info = This dataset contains the Timber Stampage Fees for thinning \n",
    "# and clearfell as per tree type and diameter.\n",
    "# ---\n",
    "#\n",
    "\n",
    "# Loading our dataset\n",
    "trees_df = pd.read_csv(\"http://bit.ly/CypressTimberStampageFeesDataset\")\n",
    "\n",
    "# Previewing our dataset\n",
    "trees_df.head()\n",
    "\n",
    "# Using Pandas: Plotting our scatterplot to compare the variables\n",
    "trees_df.plot(x = 'diameter_at_breast_height_cm', y = 'clear_fell_ksh/_m_cubed', kind='scatter')\n",
    "\n",
    "# Or Using Matplotlib: Plotting our scatterplot to compare the variables\n",
    "plt.scatter(trees_df[\"diameter_at_breast_height_cm\"] , trees_df[\"clear_fell_ksh/_m_cubed\"])\n",
    "\n",
    "# Or Using Seaborn: Using the function regplot to create our scatterplot\n",
    "sns.regplot(x = trees_df[\"diameter_at_breast_height_cm\"], y = trees_df[\"clear_fell_ksh/_m_cubed\"], fit_reg=False)\n",
    "\n",
    "# Giving our scatterplot a title\n",
    "plt.title('Diameter at Breast (cm) vs Clearfell Fees (m^3)')\n",
    "\n",
    "# Labelling our x axis\n",
    "plt.xlabel('Diameter at Breast (cm)')\n",
    "\n",
    "# Labelling our y axis\n",
    "plt.ylabel('Clearfell Fees (m^3)')\n",
    "\n",
    "# We then display our scatterplot as shown below\n",
    "plt.show()\n",
    "\n",
    "# The scatterplot graph shows that the variable diameter at breast is strongly correlated to the clearfell stampage fees.\n",
    "# This is because as the variable diameter increases the "
   ],
   "outputs": [
    {
     "output_type": "display_data",
     "data": {
      "image/png": "[encoded data removed]",
      "text/plain": [
       "<Figure size 432x288 with 1 Axes>"
      ]
     },
     "metadata": {
      "needs_background": "light"
     }
    }
   ],
   "metadata": {
    "colab": {
     "base_uri": "https://localhost:8080/"
    },
    "id": "dR5_qZu2bK4h",
    "outputId": "28f7a312-0ee5-48b2-dcd9-581bac351af6"
   }
  },
  {
   "cell_type": "code",
   "execution_count": 3,
   "source": [
    "# Example 2\n",
    "# ---\n",
    "# Question: Create a scatter plot between sepal length and sepal width - \n",
    "# What is the basic relationship between these variables using just visual inspection?\n",
    "# Dataset url  = http://bit.ly/IrisDataset\n",
    "# Dataset Info = Iris Plants Dataset\n",
    "# ---\n",
    "#\n",
    "\n",
    "# Loading our dataset from a url\n",
    "iris_df = pd.read_csv(\"http://bit.ly/IrisDataset\")\n",
    "\n",
    "# Previewing our dataset\n",
    "iris_df.head()\n",
    "\n",
    "# Plotting our scatterplot\n",
    "plt.scatter(iris_df['sepal_length'], iris_df['sepal_width'])\n",
    "\n",
    "# Giving our scatterplot a title\n",
    "plt.title('Sepal Width vs Sepal Length')\n",
    "\n",
    "# Labelling our x axis\n",
    "plt.xlabel('Sepal Length (cm)')\n",
    "\n",
    "# Labelling our y axis\n",
    "plt.ylabel('Sepal Width (cm)')\n",
    "\n",
    "# Displaying our scatterplot\n",
    "plt.show()\n",
    "\n",
    "# There is no relation because the points are scattered throughout the graph."
   ],
   "outputs": [
    {
     "output_type": "display_data",
     "data": {
      "image/png": "[encoded data removed]",
      "text/plain": [
       "<Figure size 432x288 with 1 Axes>"
      ]
     },
     "metadata": {
      "needs_background": "light"
     }
    }
   ],
   "metadata": {
    "colab": {
     "base_uri": "https://localhost:8080/"
    },
    "id": "7FjzxOrYwfPu",
    "outputId": "109bf145-6cdd-4db2-bc19-8c6080fa25b7"
   }
  },
  {
   "cell_type": "code",
   "execution_count": 4,
   "source": [
    "# Example 3\n",
    "# ---\n",
    "# Question = Create a scatter plot between mpg and weight - what is the basic relationship between \n",
    "# these variables using just visual inspection? Do the results make sense? Why?\n",
    "# Dataset url  = http://bit.ly/AutoMPGDataset\n",
    "# Dataset info = The data is technical spec of cars. The dataset is downloaded from UCI Machine Learning Repository \n",
    "# ---\n",
    "# \n",
    "\n",
    "# Loading our dataset from a url\n",
    "iris_df = pd.read_csv(\"http://bit.ly/AutoMPGDataset\")\n",
    "\n",
    "# Previewing our dataset\n",
    "iris_df.head()\n",
    "\n",
    "# Plotting our scatterplot\n",
    "plt.scatter(iris_df['mpg'], iris_df['weight'])\n",
    "\n",
    "# Giving our scatterplot a title\n",
    "plt.title('MPG vs Weight')\n",
    "\n",
    "# Labelling our x axis\n",
    "plt.xlabel('MPG')\n",
    "\n",
    "# Labelling our y axis\n",
    "plt.ylabel('Weight')\n",
    "\n",
    "# Displaying our scatterplot\n",
    "plt.show()\n",
    "\n",
    "# The variables show inverse relation. As the weight of the vehicles increases the mpg decreases. \n",
    "# Yes, the results make sense. As the light weighted vehicles can run much faster than the heavy vehicles."
   ],
   "outputs": [
    {
     "output_type": "display_data",
     "data": {
      "image/png": "[encoded data removed]",
      "text/plain": [
       "<Figure size 432x288 with 1 Axes>"
      ]
     },
     "metadata": {
      "needs_background": "light"
     }
    }
   ],
   "metadata": {
    "colab": {
     "base_uri": "https://localhost:8080/"
    },
    "id": "k6JnbZZ3_Xyf",
    "outputId": "a5c69466-f9b5-4fd1-824a-17d8d87d4475"
   }
  },
  {
   "cell_type": "code",
   "execution_count": 5,
   "source": [
    "# Example 4 \n",
    "# ---\n",
    "# Question: Determine the relationship between price and points in the given wine reviews dataset below\n",
    "# Dataset url = http://bit.ly/WineDataset\n",
    "# ---\n",
    "# \n",
    "\n",
    "# Loading our dataset\n",
    "wine_reviews = pd.read_csv(\"wines.csv\")\n",
    "\n",
    "# Plotting our scatterplot\n",
    "wine_reviews[wine_reviews['price'] < 100].sample(100).plot.scatter(x='price', y='points')\n",
    "\n",
    "# Giving our scatterplot a title\n",
    "plt.title('Wine Price vs Awarded Points')\n",
    "\n",
    "# Displaying our scatterplot\n",
    "plt.show()\n",
    "\n",
    "# This plot shows us that price and points are weakly correlated: that is, \n",
    "# that more expensive wines do generally earn more points when reviewed. \n",
    "# In order to make effective use of this plot, we had to downsample our data, \n",
    "# taking just 100 points from the full set. This is because naive scatter plots do not \n",
    "# effectively treat points which map to the same place. \n",
    "# For example, if two wines, both costing $100, get a rating of 90, \n",
    "# then the second one is overplotted onto the first one, and we add just one point to the plot."
   ],
   "outputs": [
    {
     "output_type": "display_data",
     "data": {
      "image/png": "[encoded data removed]",
      "text/plain": [
       "<Figure size 432x288 with 1 Axes>"
      ]
     },
     "metadata": {
      "needs_background": "light"
     }
    }
   ],
   "metadata": {
    "colab": {
     "base_uri": "https://localhost:8080/"
    },
    "id": "32vryTAJ_UvW",
    "outputId": "8cf38d9c-3258-4170-a3bf-3b2f12eba54c"
   }
  },
  {
   "cell_type": "markdown",
   "source": [
    "####  <font color=\"green\">1.01 Challenges</font>"
   ],
   "metadata": {
    "id": "E-LqHxw-s1ix"
   }
  },
  {
   "cell_type": "code",
   "execution_count": 6,
   "source": [
    "# Challenge 1\n",
    "# ---\n",
    "# Question = Create a scatter plot between sea levels and the years - what is the basic relationship between \n",
    "# these variables using just visual inspection? What do the results imply.\n",
    "# Dataset url  = http://bit.ly/SeaLevelDataset\n",
    "# Dataset info = This data contains \"cumulative changes in sea level for the world’s oceans since 1880, \n",
    "# based on a combination of long-term tide gauge measurements and recent satellite measurements. \n",
    "# Hint: Clean the dataset i.e. drop unnecessary columns, rename colums etc, sea levels = \"CSIRO Adjusted Sea Level\"\n",
    "# ---\n",
    "#\n",
    "sea_level = pd.read_csv('http://bit.ly/SeaLevelDataset')\n",
    "\n",
    "sea_level.plot.scatter(x='Year', y='CSIRO Adjusted Sea Level')\n",
    "\n",
    "plt.title('cumulative changes in sea level since 1980')\n",
    "\n",
    "# Displaying our scatterplot\n",
    "plt.show()"
   ],
   "outputs": [
    {
     "output_type": "display_data",
     "data": {
      "image/png": "[encoded data removed]",
      "text/plain": [
       "<Figure size 432x288 with 1 Axes>"
      ]
     },
     "metadata": {
      "needs_background": "light"
     }
    }
   ],
   "metadata": {
    "colab": {
     "base_uri": "https://localhost:8080/"
    },
    "id": "kXXShxSls1A1",
    "outputId": "006b63dd-127b-4e73-c4a2-566496cbf787"
   }
  },
  {
   "cell_type": "code",
   "execution_count": 7,
   "source": [
    "# Example 2\n",
    "# ---\n",
    "# Question: Create a scatter plot between petal length and petal width - \n",
    "# What is the basic relationship between these variables using just visual inspection?\n",
    "# Dataset url  = http://bit.ly/IrisDataset\n",
    "# Dataset Info = Iris Plants Dataset\n",
    "# ---\n",
    "#\n",
    "\n",
    "# Loading our dataset from a url\n",
    "iris_df = pd.read_csv(\"http://bit.ly/IrisDataset\")\n",
    "\n",
    "# Previewing our dataset\n",
    "iris_df.head()\n",
    "\n",
    "# Plotting our scatterplot\n",
    "plt.scatter(iris_df['sepal_length'], iris_df['sepal_width'])\n",
    "\n",
    "# Giving our scatterplot a title\n",
    "plt.title('Sepal Width vs Sepal Length')\n",
    "\n",
    "# Labelling our x axis\n",
    "plt.xlabel('Sepal Length (cm)')\n",
    "\n",
    "# Labelling our y axis\n",
    "plt.ylabel('Sepal Width (cm)')\n",
    "\n",
    "# Displaying our scatterplot\n",
    "plt.show()\n",
    "\n",
    "# There is no relation because the points are scattered throughout the graph."
   ],
   "outputs": [
    {
     "output_type": "display_data",
     "data": {
      "image/png": "[encoded data removed]",
      "text/plain": [
       "<Figure size 432x288 with 1 Axes>"
      ]
     },
     "metadata": {
      "needs_background": "light"
     }
    }
   ],
   "metadata": {
    "colab": {
     "base_uri": "https://localhost:8080/"
    },
    "id": "I4ELU3uGUKW8",
    "outputId": "34975afa-14d0-4c11-9bf9-d36e5865f579"
   }
  },
  {
   "cell_type": "code",
   "execution_count": 8,
   "source": [
    "# Challenge 3\n",
    "# --- based on the collected data provided below\n",
    "# Question: Find the relation between fixed acidity and density of Red wines\n",
    "# based on the collected data provided below\n",
    "# Dataset url  = http://bit.ly/WineRedsDataset\n",
    "# Dataset info =\n",
    "# ---\n",
    "#\n",
    "red_wine = pd.read_csv('http://bit.ly/WineRedsDataset')\n",
    "\n",
    "plt.scatter(red_wine['fixed.acidity'], red_wine['density'])\n",
    "plt.title('Relationship between acidity and density of red wine')\n",
    "plt.xlabel(\"Acidity\")\n",
    "plt.ylabel('Density of red wine')"
   ],
   "outputs": [
    {
     "output_type": "execute_result",
     "data": {
      "text/plain": [
       "Text(0, 0.5, 'Density of red wine')"
      ]
     },
     "metadata": {},
     "execution_count": 8
    },
    {
     "output_type": "display_data",
     "data": {
      "image/png": "[encoded data removed]",
      "text/plain": [
       "<Figure size 432x288 with 1 Axes>"
      ]
     },
     "metadata": {
      "needs_background": "light"
     }
    }
   ],
   "metadata": {
    "colab": {
     "base_uri": "https://localhost:8080/"
    },
    "id": "pm5_JBIIWSNY",
    "outputId": "cb30b31a-bace-43eb-ae69-22f372517abd"
   }
  },
  {
   "cell_type": "code",
   "execution_count": 9,
   "source": [
    "# Challenge 4\n",
    "# --- \n",
    "# Question: Find the relation between density and the alcohol of red wines\n",
    "# based on the collected data provided below\n",
    "# Dataset url  = http://bit.ly/WineRedsDataset\n",
    "# Dataset info =\n",
    "# ---\n",
    "#\n",
    "plt.scatter(red_wine['density'], red_wine['alcohol'])"
   ],
   "outputs": [
    {
     "output_type": "execute_result",
     "data": {
      "text/plain": [
       "<matplotlib.collections.PathCollection at 0x1ad00016490>"
      ]
     },
     "metadata": {},
     "execution_count": 9
    },
    {
     "output_type": "display_data",
     "data": {
      "image/png": "[encoded data removed]",
      "text/plain": [
       "<Figure size 432x288 with 1 Axes>"
      ]
     },
     "metadata": {
      "needs_background": "light"
     }
    }
   ],
   "metadata": {
    "colab": {
     "base_uri": "https://localhost:8080/"
    },
    "id": "05icjfnXcGH_",
    "outputId": "7a4f3e32-7940-4bb9-e374-9a55325cd52e"
   }
  },
  {
   "cell_type": "code",
   "execution_count": 10,
   "source": [
    "red_wine['density'].corr(red_wine['alcohol']) "
   ],
   "outputs": [
    {
     "output_type": "execute_result",
     "data": {
      "text/plain": [
       "-0.4961797702417018"
      ]
     },
     "metadata": {},
     "execution_count": 10
    }
   ],
   "metadata": {
    "colab": {
     "base_uri": "https://localhost:8080/"
    },
    "id": "FolLUmIGLv_M",
    "outputId": "0c385904-5619-4e73-9710-2320b476ac10"
   }
  },
  {
   "cell_type": "markdown",
   "source": [
    "### 1.02 Correlation"
   ],
   "metadata": {
    "id": "ZXFWumZhr6Ex"
   }
  },
  {
   "cell_type": "markdown",
   "source": [
    "Correlation is a statistical measure that describes the association between random variables. In this section, will use pandas to calculate the correlation coefficient. We will learn how to calculate the pearson correlation coefficient which is the most widely used correlation coefficient."
   ],
   "metadata": {
    "id": "v1z7T3zbgkMh"
   }
  },
  {
   "cell_type": "code",
   "execution_count": 11,
   "source": [
    "# Example 1\n",
    "# ---\n",
    "# Question: Determine the relationship between the weight and displacement of vehicle \n",
    "# by determining the correlation coeffient.\n",
    "# Dataset url = http://bit.ly/AutoMPGDataset\n",
    "# Dataset info = The data is technical spec of cars. The dataset is downloaded from UCI Machine Learning Repository \n",
    "# ---\n",
    "#\n",
    "\n",
    "# Loading the dataset\n",
    "mpg_df = pd.read_csv(\"http://bit.ly/AutoMPGDataset\") \n",
    "\n",
    "# Previewing the dataframe\n",
    "mpg_df.head()\n",
    "\n",
    "# Calculating the pearson coefficient\n",
    "pearson_coeff = mpg_df[\"weight\"].corr(mpg_df[\"displacement\"], method=\"pearson\") \n",
    "print(pearson_coeff)\n",
    "\n",
    "# Checking whether you have to define the pearson\n",
    "coeff = mpg_df[\"weight\"].corr(mpg_df[\"displacement\"]) \n",
    "print(coeff)"
   ],
   "outputs": [
    {
     "output_type": "stream",
     "name": "stdout",
     "text": [
      "0.9328241468416347\n",
      "0.9328241468416347\n"
     ]
    }
   ],
   "metadata": {
    "colab": {
     "base_uri": "https://localhost:8080/"
    },
    "id": "xk9ZSH5XsDHk",
    "outputId": "57e5ed79-8c77-428b-f26a-5cda17c5ba51"
   }
  },
  {
   "cell_type": "code",
   "execution_count": 12,
   "source": [
    "plt.scatter(mpg_df[\"weight\"],mpg_df[\"displacement\"])"
   ],
   "outputs": [
    {
     "output_type": "execute_result",
     "data": {
      "text/plain": [
       "<matplotlib.collections.PathCollection at 0x1ad7aaa86a0>"
      ]
     },
     "metadata": {},
     "execution_count": 12
    },
    {
     "output_type": "display_data",
     "data": {
      "image/png": "[encoded data removed]",
      "text/plain": [
       "<Figure size 432x288 with 1 Axes>"
      ]
     },
     "metadata": {
      "needs_background": "light"
     }
    }
   ],
   "metadata": {
    "colab": {
     "base_uri": "https://localhost:8080/"
    },
    "id": "5bZC-fHwMHRL",
    "outputId": "7bb823ff-abc6-4349-dc87-5436fd95c929"
   }
  },
  {
   "cell_type": "code",
   "execution_count": 13,
   "source": [
    "# Example 2\n",
    "# --- \n",
    "# Positive correlation is a relationship between two variables in which \n",
    "# both variables move in tandem—that is, in the same direction.\n",
    "# ---\n",
    "# Question: Using the correlation coefficient, determine whether acceleration and mpg are strongly or weakly correlated.\n",
    "# Dataset url = http://bit.ly/AutoMPGDataset\n",
    "# Dataset info = The data is technical spec of cars. The dataset is downloaded from UCI Machine Learning Repository \n",
    "# ---\n",
    "#\n",
    "\n",
    "# Loading the dataset\n",
    "mpg_df = pd.read_csv(\"http://bit.ly/AutoMPGDataset\") \n",
    "\n",
    "# Previewing the dataframe\n",
    "mpg_df.head()\n",
    "\n",
    "# Calculating the pearson coefficient\n",
    "mpg_df[\"acceleration\"].corr(mpg_df[\"mpg\"]) \n",
    "\n",
    "# Correlation coefficients between -.20 and .20 are generally considered weak, \n",
    "# between .20 and .50 (positive or negative) are considered moderate, \n",
    "# and above .50 (positive or negative) are considered strong. \n",
    "# Since the correlation coefficent of accelaration and mpg is 0.42, \n",
    "# this means that accelaration and mpg are moderately correlated."
   ],
   "outputs": [
    {
     "output_type": "execute_result",
     "data": {
      "text/plain": [
       "0.4202889121016507"
      ]
     },
     "metadata": {},
     "execution_count": 13
    }
   ],
   "metadata": {
    "colab": {
     "base_uri": "https://localhost:8080/"
    },
    "id": "NT6fzg0Y9HEy",
    "outputId": "ef84ad2c-3f06-4b26-ae3a-a7c1582f4be7"
   }
  },
  {
   "cell_type": "code",
   "execution_count": 14,
   "source": [
    "# Example 3\n",
    "# ---\n",
    "# Negative correlation or inverse correlation is a relationship between two variables\n",
    "# whereby they move in opposite directions. \n",
    "# ---\n",
    "# Question: Determine the correlation between accelaration and displacement of the cars given the dataset below.\n",
    "# Dataset url = http://bit.ly/AutoMPGDataset\n",
    "# Dataset info = The data is technical spec of cars. The dataset is downloaded from UCI Machine Learning Repository \n",
    "# ---\n",
    "#\n",
    "\n",
    "# Loading the dataset\n",
    "mpg_df = pd.read_csv(\"http://bit.ly/AutoMPGDataset\") \n",
    "\n",
    "# Previewing the dataframe\n",
    "mpg_df.head()\n",
    "\n",
    "# Calculating the pearson coefficient\n",
    "mpg_df[\"acceleration\"].corr(mpg_df[\"displacement\"]) \n",
    "\n",
    "# A negative (inverse) correlation occurs when the correlation coefficient is less than 0 \n",
    "# and indicates that both variables move in the opposite direction. \n",
    "# In short, any reading between 0 and -1 means that the two securities move in opposite directions.\n",
    "# The correlation coefficient is calculated to be -0.54.  This strong negative correlation signifies \n",
    "# that as the acceleration decreases, displacement increases and vice versa."
   ],
   "outputs": [
    {
     "output_type": "execute_result",
     "data": {
      "text/plain": [
       "-0.54368408350093"
      ]
     },
     "metadata": {},
     "execution_count": 14
    }
   ],
   "metadata": {
    "colab": {
     "base_uri": "https://localhost:8080/"
    },
    "id": "HthEGQEm_Yqj",
    "outputId": "d1655afd-d02e-49a6-f83c-d2c48e6beefc"
   }
  },
  {
   "cell_type": "code",
   "execution_count": 15,
   "source": [
    "# Example 4\n",
    "# ---\n",
    "# Question: Determine the correlation between the sepal length and sepal width given the dataset below.\n",
    "# Dataset url = http://bit.ly/IrisDataset \n",
    "# Dataset Info = Iris Plants Dataset\n",
    "# ---\n",
    "#\n",
    "\n",
    "# Loading the dataset\n",
    "iris_df = pd.read_csv(\"http://bit.ly/IrisDataset\") \n",
    "\n",
    "# Previewing the dataframe\n",
    "iris_df.head()\n",
    "\n",
    "# Calculating the pearson coefficient\n",
    "iris_df[\"sepal_length\"].corr(iris_df[\"sepal_width\"])\n",
    "\n",
    "# When the value of the correlation coefficient is close to zero, generally between -0.1 and +0.1, \n",
    "# the variables are said to have no linear relationship or a very weak linear relationship. \n",
    "# Thus in this example sepal length and sepal width have a very weak negative correlation."
   ],
   "outputs": [
    {
     "output_type": "execute_result",
     "data": {
      "text/plain": [
       "-0.10936924995064935"
      ]
     },
     "metadata": {},
     "execution_count": 15
    }
   ],
   "metadata": {
    "colab": {
     "base_uri": "https://localhost:8080/"
    },
    "id": "Cth-f1IrB7aT",
    "outputId": "d3dc7a08-e2df-419e-e688-5219366daf9c"
   }
  },
  {
   "cell_type": "code",
   "execution_count": 16,
   "source": [
    "# Example 5\n",
    "# ---\n",
    "# Display the correlation coefficients of the variables in the Iris Dataset\n",
    "# Dataset url = http://bit.ly/IrisDataset \n",
    "# Dataset Info = Iris Plants Dataset\n",
    "# ---\n",
    "#\n",
    "\n",
    "# Loading the dataset\n",
    "iris_df = pd.read_csv(\"http://bit.ly/IrisDataset\") \n",
    "\n",
    "# Previewing the dataframe\n",
    "iris_df.head()\n",
    "\n",
    "# Calculating the pearson coefficient\n",
    "iris_df.corr() "
   ],
   "outputs": [
    {
     "output_type": "execute_result",
     "data": {
      "text/html": [
       "<div>\n",
       "<style scoped>\n",
       "    .dataframe tbody tr th:only-of-type {\n",
       "        vertical-align: middle;\n",
       "    }\n",
       "\n",
       "    .dataframe tbody tr th {\n",
       "        vertical-align: top;\n",
       "    }\n",
       "\n",
       "    .dataframe thead th {\n",
       "        text-align: right;\n",
       "    }\n",
       "</style>\n",
       "<table border=\"1\" class=\"dataframe\">\n",
       "  <thead>\n",
       "    <tr style=\"text-align: right;\">\n",
       "      <th></th>\n",
       "      <th>sepal_length</th>\n",
       "      <th>sepal_width</th>\n",
       "      <th>petal_length</th>\n",
       "      <th>petal_width</th>\n",
       "    </tr>\n",
       "  </thead>\n",
       "  <tbody>\n",
       "    <tr>\n",
       "      <th>sepal_length</th>\n",
       "      <td>1.000000</td>\n",
       "      <td>-0.109369</td>\n",
       "      <td>0.871754</td>\n",
       "      <td>0.817954</td>\n",
       "    </tr>\n",
       "    <tr>\n",
       "      <th>sepal_width</th>\n",
       "      <td>-0.109369</td>\n",
       "      <td>1.000000</td>\n",
       "      <td>-0.420516</td>\n",
       "      <td>-0.356544</td>\n",
       "    </tr>\n",
       "    <tr>\n",
       "      <th>petal_length</th>\n",
       "      <td>0.871754</td>\n",
       "      <td>-0.420516</td>\n",
       "      <td>1.000000</td>\n",
       "      <td>0.962757</td>\n",
       "    </tr>\n",
       "    <tr>\n",
       "      <th>petal_width</th>\n",
       "      <td>0.817954</td>\n",
       "      <td>-0.356544</td>\n",
       "      <td>0.962757</td>\n",
       "      <td>1.000000</td>\n",
       "    </tr>\n",
       "  </tbody>\n",
       "</table>\n",
       "</div>"
      ],
      "text/plain": [
       "              sepal_length  sepal_width  petal_length  petal_width\n",
       "sepal_length      1.000000    -0.109369      0.871754     0.817954\n",
       "sepal_width      -0.109369     1.000000     -0.420516    -0.356544\n",
       "petal_length      0.871754    -0.420516      1.000000     0.962757\n",
       "petal_width       0.817954    -0.356544      0.962757     1.000000"
      ]
     },
     "metadata": {},
     "execution_count": 16
    }
   ],
   "metadata": {
    "colab": {
     "base_uri": "https://localhost:8080/"
    },
    "id": "8y_sdU5JF0eX",
    "outputId": "f47362a7-5bd5-4ee3-8921-29310790f3f0"
   }
  },
  {
   "cell_type": "markdown",
   "source": [
    "#### <font color=\"green\">1.02 Challenges</font>"
   ],
   "metadata": {
    "id": "oElZ1j7itA2H"
   }
  },
  {
   "cell_type": "code",
   "execution_count": 17,
   "source": [
    "# Challenge 1\n",
    "# ---\n",
    "# What is the relationship between volatile acidity and residual sugar?\n",
    "# Dataset url  = http://bit.ly/WineRedsDataset\n",
    "# Dataset info = Red wine dataset\n",
    "# ---\n",
    "#\n",
    "sugar = pd.read_csv('http://bit.ly/WineRedsDataset')\n",
    "sugar['volatile.acidity'].corr(sugar['residual.sugar'])"
   ],
   "outputs": [
    {
     "output_type": "execute_result",
     "data": {
      "text/plain": [
       "0.001917881962790721"
      ]
     },
     "metadata": {},
     "execution_count": 17
    }
   ],
   "metadata": {
    "colab": {
     "base_uri": "https://localhost:8080/"
    },
    "id": "Q_yI0P6stG6f",
    "outputId": "63238bf7-0d75-4419-b758-7900622b4d65"
   }
  },
  {
   "cell_type": "code",
   "execution_count": 18,
   "source": [
    "# Challenge 2\n",
    "# What is the relationship between free sulfur dioxide and total sulfur dioxide?\n",
    "# Dataset url  = http://bit.ly/WineRedsDataset\n",
    "# Dataset info = Red wine dataset\n",
    "# ---\n",
    "#\n",
    "sugar['free.sulfur.dioxide'].corr(sugar['total.sulfur.dioxide'])"
   ],
   "outputs": [
    {
     "output_type": "execute_result",
     "data": {
      "text/plain": [
       "0.6676664504810217"
      ]
     },
     "metadata": {},
     "execution_count": 18
    }
   ],
   "metadata": {
    "colab": {
     "base_uri": "https://localhost:8080/"
    },
    "id": "qupgp1ShIDhF",
    "outputId": "2898eba5-26aa-4a12-8e82-dadae742b567"
   }
  },
  {
   "cell_type": "code",
   "execution_count": 19,
   "source": [
    "# Challenge 3\n",
    "# ---\n",
    "# What is the relationship between fixed acidity and the pH of the wine?\n",
    "# Dataset url  = http://bit.ly/WineRedsDataset\n",
    "# Dataset info = Red wine dataset\n",
    "# ---\n",
    "#\n",
    "sugar['fixed.acidity'].corr(sugar['pH'])"
   ],
   "outputs": [
    {
     "output_type": "execute_result",
     "data": {
      "text/plain": [
       "-0.6829781945685314"
      ]
     },
     "metadata": {},
     "execution_count": 19
    }
   ],
   "metadata": {
    "colab": {
     "base_uri": "https://localhost:8080/"
    },
    "id": "r3je-dfmIDPE",
    "outputId": "b5c32c93-f630-4f5a-ccb1-73749c7539af"
   }
  },
  {
   "cell_type": "code",
   "execution_count": 20,
   "source": [
    "# Challenge 4\n",
    "# ---\n",
    "# Compare the relationship between citric acid and quality\n",
    "# with alcohol and quality.\n",
    "# Dataset url  = http://bit.ly/WineRedsDataset\n",
    "# Dataset info = Red wine dataset\n",
    "# ---\n",
    "#\n",
    "sugar['citric.acid'].corr(sugar['quality'])"
   ],
   "outputs": [
    {
     "output_type": "execute_result",
     "data": {
      "text/plain": [
       "0.22637251431804137"
      ]
     },
     "metadata": {},
     "execution_count": 20
    }
   ],
   "metadata": {
    "colab": {
     "base_uri": "https://localhost:8080/"
    },
    "id": "UDyvPD6XIGGt",
    "outputId": "49c94863-41c4-4ee9-fead-123e0e714935"
   }
  },
  {
   "cell_type": "code",
   "execution_count": 21,
   "source": [
    "# Challenge 5\n",
    "# ---\n",
    "# Question: Display the correlation coefficients of the variables in the NBA Dataset\n",
    "# Dataset url  = http://bit.ly/MSDS-NBA\n",
    "# Dataset info = NBA playes dataset\n",
    "# ---\n",
    "#\n",
    "NBA = pd.read_csv('nba.csv')\n",
    "NBA.corr()"
   ],
   "outputs": [
    {
     "output_type": "execute_result",
     "data": {
      "text/html": [
       "<div>\n",
       "<style scoped>\n",
       "    .dataframe tbody tr th:only-of-type {\n",
       "        vertical-align: middle;\n",
       "    }\n",
       "\n",
       "    .dataframe tbody tr th {\n",
       "        vertical-align: top;\n",
       "    }\n",
       "\n",
       "    .dataframe thead th {\n",
       "        text-align: right;\n",
       "    }\n",
       "</style>\n",
       "<table border=\"1\" class=\"dataframe\">\n",
       "  <thead>\n",
       "    <tr style=\"text-align: right;\">\n",
       "      <th></th>\n",
       "      <th>Number</th>\n",
       "      <th>Age</th>\n",
       "      <th>Weight</th>\n",
       "      <th>Salary</th>\n",
       "    </tr>\n",
       "  </thead>\n",
       "  <tbody>\n",
       "    <tr>\n",
       "      <th>Number</th>\n",
       "      <td>1.000000</td>\n",
       "      <td>0.028724</td>\n",
       "      <td>0.206921</td>\n",
       "      <td>-0.112386</td>\n",
       "    </tr>\n",
       "    <tr>\n",
       "      <th>Age</th>\n",
       "      <td>0.028724</td>\n",
       "      <td>1.000000</td>\n",
       "      <td>0.087183</td>\n",
       "      <td>0.213459</td>\n",
       "    </tr>\n",
       "    <tr>\n",
       "      <th>Weight</th>\n",
       "      <td>0.206921</td>\n",
       "      <td>0.087183</td>\n",
       "      <td>1.000000</td>\n",
       "      <td>0.138321</td>\n",
       "    </tr>\n",
       "    <tr>\n",
       "      <th>Salary</th>\n",
       "      <td>-0.112386</td>\n",
       "      <td>0.213459</td>\n",
       "      <td>0.138321</td>\n",
       "      <td>1.000000</td>\n",
       "    </tr>\n",
       "  </tbody>\n",
       "</table>\n",
       "</div>"
      ],
      "text/plain": [
       "          Number       Age    Weight    Salary\n",
       "Number  1.000000  0.028724  0.206921 -0.112386\n",
       "Age     0.028724  1.000000  0.087183  0.213459\n",
       "Weight  0.206921  0.087183  1.000000  0.138321\n",
       "Salary -0.112386  0.213459  0.138321  1.000000"
      ]
     },
     "metadata": {},
     "execution_count": 21
    }
   ],
   "metadata": {
    "colab": {
     "base_uri": "https://localhost:8080/"
    },
    "id": "NMiZ-PCgIPQU",
    "outputId": "14eb71b1-156b-4881-8fec-df18511a627d"
   }
  },
  {
   "cell_type": "markdown",
   "source": [
    "## 1.1 Categorical and Categorical"
   ],
   "metadata": {
    "id": "H9vGX6dirmHL"
   }
  },
  {
   "cell_type": "markdown",
   "source": [
    "### 1.11 Stacked Column Chart"
   ],
   "metadata": {
    "id": "eaygizicsMIy"
   }
  },
  {
   "cell_type": "markdown",
   "source": [
    "Stacked column charts work well when the focus of the chart is to compare the totals and one part of the totals. It\n",
    "is a useful graph to visualize the relationship between two categorical variables. It compares the percentage that each category from one variable contributes to a total across categories of the second variable. \t"
   ],
   "metadata": {
    "id": "t_gpYDTCcaJ6"
   }
  },
  {
   "cell_type": "code",
   "execution_count": 22,
   "source": [
    "# Example 1 \r\n",
    "# We can create a stacked bar chart through the use of the pyplot.bar() function. \r\n",
    "# NB: Remember pyplot from when we imported matplotlib.pyplot...\r\n",
    "# Let's create a simple stacked column chart\r\n",
    "# \r\n",
    "\r\n",
    "teams       = ['Kiboko', 'Kifaru', 'Twiga', 'Ndovu']\r\n",
    "womenPoints = [10 , 25, 40, 23]\r\n",
    "menPoints   = [10 , 20, 15, 22]\r\n",
    " \r\n",
    "X = [team for team in teams]\r\n",
    "\r\n",
    "plt.bar(X, womenPoints, label='Women')\r\n",
    "plt.bar(X, menPoints, label='Men', bottom = womenPoints)\r\n",
    "\r\n",
    "# Labeling our y axis\r\n",
    "plt.ylabel(\"Points\")\r\n",
    "\r\n",
    "# Labeling our x axis\r\n",
    "plt.xlabel(\"Teams\")\r\n",
    "\r\n",
    "# Creating a key/legend for our chart\r\n",
    "plt.legend(loc=\"upper right\")\r\n",
    "\r\n",
    "# Adding a title\r\n",
    "plt.title(\"Teams vs Points\")\r\n",
    "\r\n",
    "# Displaying our chart\r\n",
    "plt.show()"
   ],
   "outputs": [
    {
     "output_type": "display_data",
     "data": {
      "image/png": "[encoded data removed]",
      "text/plain": [
       "<Figure size 432x288 with 1 Axes>"
      ]
     },
     "metadata": {
      "needs_background": "light"
     }
    }
   ],
   "metadata": {
    "colab": {
     "base_uri": "https://localhost:8080/"
    },
    "id": "IoWlbncpRHTd",
    "outputId": "aec7be09-894a-4edc-b09b-6f83ef30fc31"
   }
  },
  {
   "cell_type": "code",
   "execution_count": 23,
   "source": [
    "# Example 2\r\n",
    "# In this example, we will first create a stacked column chart from an array and numpy arrays \r\n",
    "# \r\n",
    "countries = ['Norway', 'Germany', 'Canada', 'United States', 'Netherlands']\r\n",
    "bronzes   = np.array([10, 7, 10, 6, 6])\r\n",
    "silvers   = np.array([14, 10, 8, 8, 6])\r\n",
    "golds     = np.array([14, 14, 11, 9, 8])\r\n",
    "\r\n",
    "X = [country for country in countries]\r\n",
    "\r\n",
    "# We stack the silver medal bars on top of the bronze medals bars and similarly gold medal bar on top\r\n",
    "# by passing the parameter bottom in the plt.bar () as shown below\r\n",
    "# \r\n",
    "plt.bar(countries, golds, width=0.6, label='golds', color='gold', bottom=silvers+bronzes)\r\n",
    "plt.bar(countries, silvers, width=0.6, label='silvers', color='silver', bottom=bronzes)\r\n",
    "plt.bar(countries, bronzes, width=0.6, label='bronzes', color='#CD7F32')\r\n",
    "\r\n",
    "# labeling our y axis\r\n",
    "plt.ylabel(\"Medals\")\r\n",
    "\r\n",
    "# Labeling our x axis\r\n",
    "plt.xlabel(\"Countries\")\r\n",
    "\r\n",
    "# Creating a key/legend for our chart\r\n",
    "plt.legend(loc=\"upper right\")\r\n",
    "\r\n",
    "# Adding a title\r\n",
    "plt.title(\"2018 Winter Olympics Top Scorers\")\r\n",
    "\r\n",
    "# Displaying our chart\r\n",
    "plt.show()"
   ],
   "outputs": [
    {
     "output_type": "display_data",
     "data": {
      "image/png": "[encoded data removed]",
      "text/plain": [
       "<Figure size 432x288 with 1 Axes>"
      ]
     },
     "metadata": {
      "needs_background": "light"
     }
    }
   ],
   "metadata": {
    "colab": {
     "base_uri": "https://localhost:8080/"
    },
    "id": "8HrHEx7kLXuq",
    "outputId": "03088d39-b461-4523-d388-fb5376c1afb0"
   }
  },
  {
   "cell_type": "code",
   "execution_count": 24,
   "source": [
    "# Example 3\r\n",
    "# ---\r\n",
    "# Question: Create a stacked bar chart from the following dataset\r\n",
    "# Dataset url = http://bit.ly/Bikes-Sales-Dataset\r\n",
    "# --- \r\n",
    "# \r\n",
    "\r\n",
    "# Loading our dataset\r\n",
    "bike_sales_df = pd.read_csv(\"http://bit.ly/Bikes-Sales-Dataset\")\r\n",
    "\r\n",
    "bike_sales_df[['hybrid', 'racing', 'electric']].plot(kind='bar', figsize=(8, 6), stacked=True)\r\n",
    "\r\n",
    "# Rotating our x axis ticks\r\n",
    "plt.xticks(rotation = 45)\r\n",
    "\r\n",
    "# Giving our chart a title\r\n",
    "plt.title(\"Sales of Hybrid, Racing and Electric Bikes (May 2017 - May 18)\", fontsize=14, y=1.015)\r\n",
    "\r\n",
    "# Labeling our y axis\r\n",
    "plt.ylabel(\"Sales\", fontsize=14, labelpad=15)\r\n",
    "\r\n",
    "# Labeling our x axis\r\n",
    "plt.xlabel(\"Months\", fontsize=14, labelpad=15)\r\n",
    "\r\n",
    "# Displaying our chart\r\n",
    "plt.show()"
   ],
   "outputs": [
    {
     "output_type": "display_data",
     "data": {
      "image/png": "[encoded data removed]",
      "text/plain": [
       "<Figure size 576x432 with 1 Axes>"
      ]
     },
     "metadata": {
      "needs_background": "light"
     }
    }
   ],
   "metadata": {
    "colab": {
     "base_uri": "https://localhost:8080/"
    },
    "id": "P54RyL9PfpsF",
    "outputId": "c0bbef2f-adf6-4576-aab8-40dd39a139f9"
   }
  },
  {
   "cell_type": "markdown",
   "source": [
    "#### <font color=\"green\">1.11 Challenges</font>"
   ],
   "metadata": {
    "id": "ExMqwGE1sZV-"
   }
  },
  {
   "cell_type": "code",
   "execution_count": 25,
   "source": [
    "# Challenge 1\r\n",
    "# ---\r\n",
    "# Question: Display the final results of the men's doubles badminton tournament at the 2016 Summer Olympics \r\n",
    "# at Riocentro, Brazil, between the shuttlers from China and Malaysia scoring 16-21, 21-11, 23-21 \r\n",
    "# in the first, second and third rounds respectively.\r\n",
    "# ---\r\n",
    "# \r\n",
    "\r\n",
    "# Rounds played\r\n",
    "rounds = ['Round 1', 'Round 2', 'Round 3']\r\n",
    "\r\n",
    "# Points scored\r\n",
    "chinaPoints     = [16, 21, 23]\r\n",
    "malaysiaPoints  = [21, 11, 21]\r\n",
    "\r\n",
    "\r\n",
    "\r\n",
    "plt.bar(rounds, chinaPoints, label='China points')\r\n",
    "plt.bar(rounds, malaysiaPoints, label='Malasia point', bottom = chinaPoints)\r\n",
    "plt.legend()"
   ],
   "outputs": [
    {
     "output_type": "execute_result",
     "data": {
      "text/plain": [
       "<matplotlib.legend.Legend at 0x1ad005a60d0>"
      ]
     },
     "metadata": {},
     "execution_count": 25
    },
    {
     "output_type": "display_data",
     "data": {
      "image/png": "[encoded data removed]",
      "text/plain": [
       "<Figure size 432x288 with 1 Axes>"
      ]
     },
     "metadata": {
      "needs_background": "light"
     }
    }
   ],
   "metadata": {
    "colab": {
     "base_uri": "https://localhost:8080/"
    },
    "id": "XhVi0tR9sYvY",
    "outputId": "bf6c10a7-c157-426d-ef7c-a97c197761fe"
   }
  },
  {
   "cell_type": "code",
   "execution_count": 26,
   "source": [
    "# Challenge 3\r\n",
    "# ---\r\n",
    "# Question: The following dataset contains series 1 and series 2 games. \r\n",
    "# Players were groupd in 20 groups and accumilated the given points.\r\n",
    "# Create a stack bar chart of Group 1, 2 and 3\r\n",
    "# Dataset url = http://bit.ly/SeriesDataset\r\n",
    "# ---\r\n",
    "#\r\n",
    "\r\n",
    "players = pd. read_csv('http://bit.ly/SeriesDataset')\r\n",
    "players[['Series1','Series2']].plot(kind='bar', figsize=(8, 6), stacked=True)\r\n",
    "plt.xticks(rotation = 45)\r\n"
   ],
   "outputs": [
    {
     "output_type": "execute_result",
     "data": {
      "text/plain": [
       "(array([ 0,  1,  2,  3,  4,  5,  6,  7,  8,  9, 10, 11, 12, 13, 14, 15, 16,\n",
       "        17, 18, 19]),\n",
       " [Text(0, 0, '0'),\n",
       "  Text(1, 0, '1'),\n",
       "  Text(2, 0, '2'),\n",
       "  Text(3, 0, '3'),\n",
       "  Text(4, 0, '4'),\n",
       "  Text(5, 0, '5'),\n",
       "  Text(6, 0, '6'),\n",
       "  Text(7, 0, '7'),\n",
       "  Text(8, 0, '8'),\n",
       "  Text(9, 0, '9'),\n",
       "  Text(10, 0, '10'),\n",
       "  Text(11, 0, '11'),\n",
       "  Text(12, 0, '12'),\n",
       "  Text(13, 0, '13'),\n",
       "  Text(14, 0, '14'),\n",
       "  Text(15, 0, '15'),\n",
       "  Text(16, 0, '16'),\n",
       "  Text(17, 0, '17'),\n",
       "  Text(18, 0, '18'),\n",
       "  Text(19, 0, '19')])"
      ]
     },
     "metadata": {},
     "execution_count": 26
    },
    {
     "output_type": "display_data",
     "data": {
      "image/png": "[encoded data removed]",
      "text/plain": [
       "<Figure size 576x432 with 1 Axes>"
      ]
     },
     "metadata": {
      "needs_background": "light"
     }
    }
   ],
   "metadata": {
    "colab": {
     "base_uri": "https://localhost:8080/"
    },
    "id": "avnYuQBEXAxD",
    "outputId": "6b79eb5c-bd94-4b1a-8a91-240743ec40fe"
   }
  },
  {
   "cell_type": "markdown",
   "source": [
    "## 1.2 Categorical and Numerical"
   ],
   "metadata": {
    "id": "JZFIpijOrqbM"
   }
  },
  {
   "cell_type": "markdown",
   "source": [
    "### 1.21 Line Charts"
   ],
   "metadata": {
    "id": "1SBigmCQtYR-"
   }
  },
  {
   "cell_type": "code",
   "execution_count": 27,
   "source": [
    "# Example 1\r\n",
    "# ---\r\n",
    "# Question: Plot a graph of Sunlight vs. Time\r\n",
    "# ---\r\n",
    "#\r\n",
    "\r\n",
    "hours    = [1, 2, 3, 4, 5, 6, 7, 8, 9]\r\n",
    "sunlight = [2, 3, 4, 5, 7, 9, 13, 15, 17]\r\n",
    "\r\n",
    "# Plotting our line graph\r\n",
    "plt.plot(hours, sunlight)\r\n",
    "\r\n",
    "# Giving a title to our line graph\r\n",
    "plt.title(\"Sunlight vs Time (hrs)\", fontsize=14, y=1.015)\r\n",
    "\r\n",
    "# Labelling the y-axis\r\n",
    "plt.ylabel('Sunlight')\r\n",
    "\r\n",
    "# Labelling the x-axis\r\n",
    "plt.xlabel('Time')\r\n",
    "\r\n",
    "# Displaying our graph\r\n",
    "plt.show()"
   ],
   "outputs": [
    {
     "output_type": "display_data",
     "data": {
      "image/png": "[encoded data removed]",
      "text/plain": [
       "<Figure size 432x288 with 1 Axes>"
      ]
     },
     "metadata": {
      "needs_background": "light"
     }
    }
   ],
   "metadata": {
    "colab": {
     "base_uri": "https://localhost:8080/"
    },
    "id": "Mw-3r0JIrxgn",
    "outputId": "d4d30225-8b63-49f3-82a8-17dd1955a4f6"
   }
  },
  {
   "cell_type": "code",
   "execution_count": 28,
   "source": [
    "# Example 2\r\n",
    "# ---\r\n",
    "# Question: Create a line graph of Sales of hybrid bikes from May 2017 to May 2018\r\n",
    "# Dataset url = http://bit.ly/Bikes-Sales-Dataset\r\n",
    "# ---\r\n",
    "#\r\n",
    "\r\n",
    "# Loading our dataset\r\n",
    "bikes_dataset_df = pd.read_csv(\"http://bit.ly/Bikes-Sales-Dataset\")\r\n",
    "\r\n",
    "# Plotting our line graph\r\n",
    "bikes_dataset_df[[\"hybrid\"]].plot()\r\n",
    "\r\n",
    "# Giving a title to our line graph\r\n",
    "plt.title(\"Sales of Hybrid Bikes from May 2017 to May 2018\", fontsize=14, y=1.015)\r\n",
    "\r\n",
    "# Labelling the y-axis\r\n",
    "plt.ylabel('Sales')\r\n",
    "\r\n",
    "# Labelling the x-axis\r\n",
    "plt.xlabel('Time')\r\n",
    "\r\n",
    "# Displaying our graph\r\n",
    "plt.show()"
   ],
   "outputs": [
    {
     "output_type": "display_data",
     "data": {
      "image/png": "[encoded data removed]",
      "text/plain": [
       "<Figure size 432x288 with 1 Axes>"
      ]
     },
     "metadata": {
      "needs_background": "light"
     }
    }
   ],
   "metadata": {
    "colab": {
     "base_uri": "https://localhost:8080/"
    },
    "id": "8g3DUr72EeqU",
    "outputId": "4de62e50-7cb8-4b53-9a86-1347c0da7c89"
   }
  },
  {
   "cell_type": "markdown",
   "source": [
    "### <font color=\"green\">1.21 Challenges</font>"
   ],
   "metadata": {
    "id": "B3f7oOaVuGoG"
   }
  },
  {
   "cell_type": "code",
   "execution_count": 29,
   "source": [
    "# Challenge 1\r\n",
    "# ---\r\n",
    "# Question: Create a line graph using the following data given below\r\n",
    "# ---\r\n",
    "# \r\n",
    "\r\n",
    "years                         = [1960, 1970, 1980, 1990, 2000, 2010] \r\n",
    "# popupation_india (millions)   = [449.48, 553.57, 696.783, 870.133, 1000.4, 1309.1]\r\n",
    "popupation_india  = [449.48, 553.57, 696.783, 870.133, 1000.4, 1309.1]\r\n",
    "\r\n",
    "plt.plot(years,popupation_india)\r\n",
    "plt.title(\"Population in indea over the years\")\r\n",
    "plt.xlabel(\"Year\")\r\n",
    "plt.ylabel(\"Population (m)\")\r\n"
   ],
   "outputs": [
    {
     "output_type": "execute_result",
     "data": {
      "text/plain": [
       "Text(0, 0.5, 'Population (m)')"
      ]
     },
     "metadata": {},
     "execution_count": 29
    },
    {
     "output_type": "display_data",
     "data": {
      "image/png": "[encoded data removed]",
      "text/plain": [
       "<Figure size 432x288 with 1 Axes>"
      ]
     },
     "metadata": {
      "needs_background": "light"
     }
    }
   ],
   "metadata": {
    "colab": {
     "base_uri": "https://localhost:8080/"
    },
    "id": "fgTFgSDluOkM",
    "outputId": "2855e9af-328c-4299-d0ad-8600b0001941"
   }
  },
  {
   "cell_type": "code",
   "execution_count": 30,
   "source": [
    "# Challenge 2\r\n",
    "# ---\r\n",
    "# Question: Create seperate lines graph to study tends for Microsoft, \r\n",
    "# Google and IMB Stocks over time from the given dataset\r\n",
    "# Dataset url = http://bit.ly/StocksDataset\r\n",
    "# NB: If you choose to plot only one graph and account from all the above stocks,\r\n",
    "# you will no longer be performing bivariate analysis :)\r\n",
    "# ---\r\n",
    "# \r\n",
    "\r\n",
    "IMB_stok = pd.read_csv('http://bit.ly/StocksDataset')\r\n",
    "IMB_stok.set_index('Date')['MSFT'].plot()"
   ],
   "outputs": [
    {
     "output_type": "execute_result",
     "data": {
      "text/plain": [
       "<AxesSubplot:xlabel='Date'>"
      ]
     },
     "metadata": {},
     "execution_count": 30
    },
    {
     "output_type": "display_data",
     "data": {
      "image/png": "[encoded data removed]",
      "text/plain": [
       "<Figure size 432x288 with 1 Axes>"
      ]
     },
     "metadata": {
      "needs_background": "light"
     }
    }
   ],
   "metadata": {
    "colab": {
     "base_uri": "https://localhost:8080/"
    },
    "id": "N-pxraxpSMHj",
    "outputId": "7d4c6a26-f56a-4257-809a-318847ceec35"
   }
  },
  {
   "cell_type": "code",
   "execution_count": 31,
   "source": [
    "# Challenge 3\r\n",
    "# ---\r\n",
    "# Question: What was the population trend for Sub-Saharan Africa (IDA & IBRD countries) from 2006 to 2016? \r\n",
    "# Dataset url = http://bit.ly/WorldPopulationDataset\r\n",
    "# ---\r\n",
    "population = pd.read_csv('http://bit.ly/WorldPopulationDataset')\r\n",
    "\r\n",
    "countries = population[(population['Country Code']=='IDA')|(population['Country Code']=='IDX')]\r\n",
    "countries.plot()"
   ],
   "outputs": [
    {
     "output_type": "execute_result",
     "data": {
      "text/plain": [
       "<AxesSubplot:>"
      ]
     },
     "metadata": {},
     "execution_count": 31
    },
    {
     "output_type": "display_data",
     "data": {
      "image/png": "[encoded data removed]",
      "text/plain": [
       "<Figure size 432x288 with 1 Axes>"
      ]
     },
     "metadata": {
      "needs_background": "light"
     }
    }
   ],
   "metadata": {
    "colab": {
     "base_uri": "https://localhost:8080/"
    },
    "id": "pMlZHtkqW1X5",
    "outputId": "7733ba88-3af6-41db-8fc4-cc47e151219f"
   }
  },
  {
   "cell_type": "markdown",
   "source": [
    "### 1.23 Z-test "
   ],
   "metadata": {
    "id": "JtjPD6J3tpXH"
   }
  },
  {
   "cell_type": "code",
   "execution_count": 32,
   "source": [
    "# Example 1\r\n",
    "# ---\r\n",
    "# Calculating the z - score from the given array\r\n",
    "# ---\r\n",
    "#\r\n",
    "from scipy import stats\r\n",
    "\r\n",
    "a = np.array([ 0.7972, 0.0767, 0.4383, 0.7866, 0.8091, 0.1954, 0.6307, 0.6599, 0.1065, 0.0508])\r\n",
    "stats.zscore(a)"
   ],
   "outputs": [
    {
     "output_type": "execute_result",
     "data": {
      "text/plain": [
       "array([ 1.12724554, -1.2469956 , -0.05542642,  1.09231569,  1.16645923,\n",
       "       -0.8558472 ,  0.57858329,  0.67480514, -1.14879659, -1.33234306])"
      ]
     },
     "metadata": {},
     "execution_count": 32
    }
   ],
   "metadata": {
    "colab": {
     "base_uri": "https://localhost:8080/"
    },
    "id": "j5cavzRKtr5U",
    "outputId": "a3c22285-58f6-495e-8a87-7d043c96cc75"
   }
  },
  {
   "cell_type": "markdown",
   "source": [
    "### <font color=\"green\">1.23 Challenges</font>"
   ],
   "metadata": {
    "id": "BQXexlSluX-X"
   }
  },
  {
   "cell_type": "code",
   "execution_count": 33,
   "source": [
    "# Challenge 1\r\n",
    "# "
   ],
   "outputs": [],
   "metadata": {
    "id": "unSEVISMudU1"
   }
  },
  {
   "cell_type": "markdown",
   "source": [
    "### 1.24 T-test"
   ],
   "metadata": {
    "id": "ocEXb9JMtuq0"
   }
  },
  {
   "cell_type": "code",
   "execution_count": 53,
   "source": [
    "# Example 1\r\n",
    "# --- \r\n",
    "# Question: Let's calculate the t-test for the mean of one group of scores \r\n",
    "# x = [1 , 2, 3, 4, 5]\r\n",
    "# ---\r\n",
    "#\r\n",
    "\r\n",
    "# Importing ttest_1samp from scipy.stats\r\n",
    "from scipy.stats import ttest_1samp\r\n",
    "\r\n",
    "# Defining x and expected mean\r\n",
    "x = [1, 1, 1, 1, 12]\r\n",
    "#print(type(x))\r\n",
    "\r\n",
    "expected_mean = 0\r\n",
    "\r\n",
    "# Calculating the t-test\r\n",
    "t_statistic, p_value = ttest_1samp(x, expected_mean, axis = 0)\r\n",
    "\r\n",
    "# Then displaying the t-statistic\r\n",
    "print(t_statistic)\r\n",
    "print(p_value)"
   ],
   "outputs": [
    {
     "output_type": "stream",
     "name": "stdout",
     "text": [
      "1.4545454545454546\n",
      "0.21948026065284387\n"
     ]
    }
   ],
   "metadata": {
    "colab": {
     "base_uri": "https://localhost:8080/"
    },
    "id": "Yd92ydLXtwnD",
    "outputId": "167de97d-7963-49ef-ec1b-bc1027a61dba"
   }
  },
  {
   "cell_type": "code",
   "execution_count": 35,
   "source": [
    "# Example 2\r\n",
    "# ---\r\n",
    "# Computing the t-test for the means of two independent samples of scores; Group X and Y\r\n",
    "# x = [4, 5, 7, 5, 2]\r\n",
    "# y = [5, 6, 3, 6, 11]\r\n",
    "# ---\r\n",
    "# \r\n",
    "\r\n",
    "# Importing ttest_1samp from scipy.stats\r\n",
    "from scipy.stats import ttest_ind\r\n",
    "\r\n",
    "# Defining our scores...x and y\r\n",
    "x = [1, 2, 3, 4, 7]\r\n",
    "y = [1, 2, 3, 4, 6]\r\n",
    "\r\n",
    "# Then calculating the t-test\r\n",
    "t_statistic, p_value = ttest_ind(x, y)\r\n",
    "\r\n",
    "# Then displaying the t-statistic\r\n",
    "print(t_statistic)\r\n",
    "print(p_value)"
   ],
   "outputs": [
    {
     "output_type": "stream",
     "name": "stdout",
     "text": [
      "0.1490711984999858\n",
      "0.885186815375981\n"
     ]
    }
   ],
   "metadata": {
    "colab": {
     "base_uri": "https://localhost:8080/"
    },
    "id": "S8jR6J8t1duR",
    "outputId": "b0a6cb46-d1c7-4bc3-a033-17ac198a6226"
   }
  },
  {
   "cell_type": "code",
   "execution_count": 36,
   "source": [
    "import researchpy as rp \r\n",
    "# pip install researchpy\r\n",
    "\r\n",
    "#from scipy import stats\r\n",
    "\r\n",
    "# Example 3: Independent T-test\r\n",
    "# ---\r\n",
    "# As we had learnt from our suggested readings, the independent t-test is also called the two sample t-test, \r\n",
    "# student’s t-test, or unpaired t-test. \r\n",
    "# It’s a parametric test that tests for a significant difference between the mean \r\n",
    "# of two independent (unrelated) groups.\r\n",
    "# ---\r\n",
    "# Compute the t-test to see if there is a significant difference in the sepal width \r\n",
    "# between the species Iris-setosa and Iris-versicolor which are variables “sepal_width” \r\n",
    "# and “species” respectively.\r\n",
    "# Dataset url = http://bit.ly/IrisDataset\r\n",
    "# ---\r\n",
    "# \r\n",
    "df = pd.read_csv('http://bit.ly/IrisDataset')\r\n",
    "df\r\n",
    "# Step 1: \r\n",
    "# Showing descriptive statistics from pandas.describe()\r\n",
    "# --- \r\n",
    "df.groupby(\"species\")['sepal_width'].describe()\r\n",
    "\r\n",
    "# Step 2: \r\n",
    "# Showing descriptive statistics from researchpy.summary_cont()\r\n",
    "# --- \r\n",
    "rp.summary_cont(df.groupby(\"species\")['sepal_width'])\r\n",
    "\r\n",
    "# Step 3: \r\n",
    "# Before the t-test can be conducted, the assumptions of the t-test need \r\n",
    "# to be checked to see if the t-test results can be trusted. The data which we will use must \r\n",
    "# meet those assumptions in order for the test results to be valid.\r\n",
    "# 1. The samples are independently and randomly drawn\r\n",
    "# 2. The distribution of the residuals between the two groups should follow the normal distribution\r\n",
    "# 3. The variances between the two groups are equal\r\n",
    "# If any of these assumptions are violated then another test should be used. \r\n",
    "# The dependent variable (outcome being measured) should be continuous which is measured on an interval or ratio scale.\r\n",
    "# --- \r\n",
    "setosa = df[(df['species'] == 'Iris-setosa')]\r\n",
    "versicolor = df[(df['species'] == 'Iris-versicolor')]\r\n",
    "stats.levene(setosa['sepal_width'], versicolor['sepal_width'])\r\n",
    "\r\n",
    "# Step 3:\r\n",
    "# We learn that the test is not significant meaning there is homogeneity of variances and we can proceed. \r\n",
    "# If the test were to be significant, a viable alternative would be to conduct a Welch’s t-test.\r\n",
    "\r\n",
    "# Step 4: \r\n",
    "# Next we test the assumption of normality. The residuals needs to be normally distributed. \r\n",
    "# To calculate the residuals between the groups, subtract the values of one group from the values of the other group.\r\n",
    "# --- \r\n",
    "diff = setosa['sepal_width'] - versicolor['sepal_width']\r\n",
    "diff.unique()\r\n",
    "# Step 5: \r\n",
    "# Checking for normality can be done visually or with a formula test. \r\n",
    "# Visually, one can use a p-p plot, a q-q plot, or histogram, and/or one can use the Shapiro-Wilk \r\n",
    "# test to formally test for normality. \r\n",
    "# To test for normality formally, use stats.shapiro() which is from the scipy.stats library that was imported. \r\n",
    "# Documention on shapiro can be found here: http://bit.ly/DocShapiro\r\n",
    "# First let’s check for normality visually with a p-p plot and a histogram plot.\r\n",
    "# --- \r\n",
    "stats.probplot(diff, plot= plt)\r\n",
    "plt.title('Sepal Width P-P Plot') \r\n",
    "plt.show()\r\n",
    "\r\n",
    "setosa['sepal_width'].plot(kind=\"hist\", title=\"Setosa Sepal Width\")\r\n",
    "plt.xlabel(\"Length (units)\")\r\n",
    "plt.savefig('Setosa_sepal_width')\r\n",
    "print(\"testing \")\r\n",
    "\r\n",
    "\r\n",
    "# versicolor['sepal_width'].plot(kind=\"hist\", title= \"Versicolor Sepal Width\", color=\"green\")\r\n",
    "# plt.xlabel(\"Length (units)\")\r\n",
    "# plt.savefig('Versicolor_sepal_width')\r\n",
    "# Step 5:\r\n",
    "# If you are unfamiliar with how to read a p-p or q-q plot, \r\n",
    "# the dots should fall on the red line. If the dots are not on the red line then it’s an indication that \r\n",
    "# there is deviation from normality. Some deviations from normality is fine, as long as it’s not severe.\r\n",
    "\r\n",
    "# Step 6:\r\n",
    "# The p-p plot shows that the data maintains normality. Let’s take a look at the histogram next.\r\n",
    "# --- \r\n",
    "# diff.plot(kind= \"hist\", title= \"Sepal Width Residuals\")\r\n",
    "# plt.xlabel(\"Length (cm)\") \r\n",
    "# plt.show()\r\n",
    "\r\n",
    "\r\n",
    "# Step 7: \r\n",
    "# For the formal test on normality\r\n",
    "# --- \r\n",
    "# stats.shapiro(diff)\r\n",
    "\r\n",
    "# Step 7: \r\n",
    "# The output is not labeled, but the first value is the W test statistic and the second value is the p-value. \r\n",
    "# Since the test statistic does not produce a significant p-value, the data is indicated to be normally distributed.\r\n",
    "# The data met all the assumptions for the t-test which indicates the results can be trusted \r\n",
    "# and the t-test is an appropriate test to be used.\r\n",
    "\r\n",
    "# Step 8: \r\n",
    "# To conduct the independent t-test using scipy.stats, use the stats.ttest_ind() method.\r\n",
    "# ---\r\n",
    "# stats.ttest_ind(setosa['sepal_width'], versicolor['sepal_width'])\r\n",
    "\r\n",
    "# Conclusion:\r\n",
    "# There is a statistically significant difference between the sepal width of Iris-setosa \r\n",
    "# and Iris-versicolor (t(98) = 9.282, p < 0.0001, r = 0.6840)"
   ],
   "outputs": [
    {
     "output_type": "stream",
     "name": "stdout",
     "text": [
      "\n",
      "\n"
     ]
    },
    {
     "output_type": "display_data",
     "data": {
      "image/png": "[encoded data removed]",
      "text/plain": [
       "<Figure size 432x288 with 1 Axes>"
      ]
     },
     "metadata": {
      "needs_background": "light"
     }
    },
    {
     "output_type": "stream",
     "name": "stdout",
     "text": [
      "testing \n"
     ]
    },
    {
     "output_type": "display_data",
     "data": {
      "image/png": "[encoded data removed]",
      "text/plain": [
       "<Figure size 432x288 with 1 Axes>"
      ]
     },
     "metadata": {
      "needs_background": "light"
     }
    }
   ],
   "metadata": {
    "colab": {
     "base_uri": "https://localhost:8080/",
     "height": 797
    },
    "id": "dAXT2J5NAj63",
    "outputId": "e070baae-9acd-418a-f2ec-43285f26cb4b"
   }
  },
  {
   "cell_type": "code",
   "execution_count": 37,
   "source": [
    "versicolor['sepal_width'].plot(kind=\"hist\", title= \"Versicolor Sepal Width\", color=\"green\")\n",
    "plt.xlabel(\"Length (units)\")\n",
    "plt.savefig('Versicolor_sepal_width')"
   ],
   "outputs": [
    {
     "output_type": "display_data",
     "data": {
      "image/png": "[encoded data removed]",
      "text/plain": [
       "<Figure size 432x288 with 1 Axes>"
      ]
     },
     "metadata": {
      "needs_background": "light"
     }
    }
   ],
   "metadata": {
    "colab": {
     "base_uri": "https://localhost:8080/",
     "height": 295
    },
    "id": "MwQfOOdakyBy",
    "outputId": "88bd1021-06f3-445c-b30a-fc8ac3427026"
   }
  },
  {
   "cell_type": "code",
   "execution_count": 38,
   "source": [
    "stats.probplot(setosa['sepal_width'], dist=\"norm\", plot= plt)\n",
    "plt.title(\"Setosa Sepal Width Q-Q Plot\")\n",
    "plt.savefig(\"Setosa_qqplot.png\")"
   ],
   "outputs": [
    {
     "output_type": "display_data",
     "data": {
      "image/png": "[encoded data removed]",
      "text/plain": [
       "<Figure size 432x288 with 1 Axes>"
      ]
     },
     "metadata": {
      "needs_background": "light"
     }
    }
   ],
   "metadata": {
    "colab": {
     "base_uri": "https://localhost:8080/",
     "height": 295
    },
    "id": "0giWaSQelJ_0",
    "outputId": "e4db20e6-9745-49c0-eee0-ccfd4fa26a99"
   }
  },
  {
   "cell_type": "code",
   "execution_count": 39,
   "source": [
    "stats.probplot(versicolor['sepal_width'], dist=\"norm\", plot= plt)\n",
    "plt.title(\"Versicolor Sepal Width Q-Q Plot\")\n",
    "plt.savefig(\"versicolor_qqplot.png\")"
   ],
   "outputs": [
    {
     "output_type": "display_data",
     "data": {
      "image/png": "[encoded data removed]",
      "text/plain": [
       "<Figure size 432x288 with 1 Axes>"
      ]
     },
     "metadata": {
      "needs_background": "light"
     }
    }
   ],
   "metadata": {
    "colab": {
     "base_uri": "https://localhost:8080/",
     "height": 295
    },
    "id": "VjL8cvhXlX6L",
    "outputId": "f72e528b-a08a-4c60-a54b-fad0bf721411"
   }
  },
  {
   "cell_type": "code",
   "execution_count": 40,
   "source": [
    "stats.shapiro(versicolor['sepal_width'])\n"
   ],
   "outputs": [
    {
     "output_type": "execute_result",
     "data": {
      "text/plain": [
       "ShapiroResult(statistic=0.9741330742835999, pvalue=0.33798879384994507)"
      ]
     },
     "metadata": {},
     "execution_count": 40
    }
   ],
   "metadata": {
    "colab": {
     "base_uri": "https://localhost:8080/"
    },
    "id": "vr9GDOOIlpmC",
    "outputId": "e77989e6-2f1d-4a15-cc54-430e1399dc18"
   }
  },
  {
   "cell_type": "code",
   "execution_count": 41,
   "source": [
    "stats.shapiro(setosa['sepal_width'])\n"
   ],
   "outputs": [
    {
     "output_type": "execute_result",
     "data": {
      "text/plain": [
       "ShapiroResult(statistic=0.968691885471344, pvalue=0.20465604960918427)"
      ]
     },
     "metadata": {},
     "execution_count": 41
    }
   ],
   "metadata": {
    "colab": {
     "base_uri": "https://localhost:8080/"
    },
    "id": "e3f-UqAtlh2z",
    "outputId": "31534589-40f2-4676-e531-ab209180f5a0"
   }
  },
  {
   "cell_type": "code",
   "execution_count": 42,
   "source": [
    "stats.ttest_ind(setosa['sepal_width'], versicolor['sepal_width'])\n"
   ],
   "outputs": [
    {
     "output_type": "execute_result",
     "data": {
      "text/plain": [
       "Ttest_indResult(statistic=9.282772555558111, pvalue=4.362239016010214e-15)"
      ]
     },
     "metadata": {},
     "execution_count": 42
    }
   ],
   "metadata": {
    "colab": {
     "base_uri": "https://localhost:8080/"
    },
    "id": "Gc5AQzF5lszn",
    "outputId": "86a788e3-7cb5-4100-ece8-9d02c3de70c9"
   }
  },
  {
   "cell_type": "code",
   "execution_count": null,
   "source": [],
   "outputs": [],
   "metadata": {
    "id": "019PRwGSltDA"
   }
  },
  {
   "cell_type": "code",
   "execution_count": null,
   "source": [],
   "outputs": [],
   "metadata": {
    "id": "8JjK2ivbV4wE"
   }
  },
  {
   "cell_type": "code",
   "execution_count": 43,
   "source": [
    "#step 1 \n",
    "#df.groupby(\"species\")['sepal_width'].describe()\n",
    "#step 2 \n",
    "rp.summary_cont(df.groupby(\"species\")['sepal_width'])\n",
    "\n",
    "#step 3\n",
    "setosa = df[(df['species'] == 'Iris-setosa')]\n",
    "versicolor = df[(df['species'] == 'Iris-versicolor')]\n",
    "stats.levene(setosa['sepal_width'], versicolor['sepal_width'])\n",
    "print(\"Setosa data set\")\n",
    "print(setosa.head())\n",
    "print(\"\\t\")\n",
    "print(\"Versicolor dataset\")\n",
    "print(versicolor.head())\n",
    "\n",
    "#Step 4\n",
    "print(\"residuals\")\n",
    "diff = setosa['sepal_width'] - versicolor['sepal_width']\n",
    "print(diff.head())\n",
    "\n",
    "#step 5\n",
    "stats.probplot(diff, plot= plt)\n",
    "plt.title('Sepal Width P-P Plot') \n",
    "plt.show()\n",
    "\n",
    "#step 6 \n",
    "diff.plot(kind= \"hist\", title= \"Sepal Width Residuals\")\n",
    "plt.xlabel(\"Length (cm)\") \n",
    "plt.show()\n",
    "\n",
    "#step 7\n",
    "# Step 8: \n",
    "# To conduct the independent t-test using scipy.stats, use the stats.ttest_ind() method.\n",
    "# ---\n",
    "# stats.ttest_ind(setosa['sepal_width'], versicolor['sepal_width'])\n",
    "\n",
    "# Conclusion:\n",
    "# There is a statistically significant difference between the sepal width of Iris-setosa \n",
    "# and Iris-versicolor (t(98) = 9.282, p < 0.0001, r = 0.6840)\n",
    "#step 8 \n",
    "print(stats.ttest_ind(setosa['sepal_width'], versicolor['sepal_width']))"
   ],
   "outputs": [
    {
     "output_type": "stream",
     "name": "stdout",
     "text": [
      "\n",
      "\n",
      "Setosa data set\n",
      "   sepal_length  sepal_width  petal_length  petal_width      species\n",
      "0           5.1          3.5           1.4          0.2  Iris-setosa\n",
      "1           4.9          3.0           1.4          0.2  Iris-setosa\n",
      "2           4.7          3.2           1.3          0.2  Iris-setosa\n",
      "3           4.6          3.1           1.5          0.2  Iris-setosa\n",
      "4           5.0          3.6           1.4          0.2  Iris-setosa\n",
      "\t\n",
      "Versicolor dataset\n",
      "    sepal_length  sepal_width  petal_length  petal_width          species\n",
      "50           7.0          3.2           4.7          1.4  Iris-versicolor\n",
      "51           6.4          3.2           4.5          1.5  Iris-versicolor\n",
      "52           6.9          3.1           4.9          1.5  Iris-versicolor\n",
      "53           5.5          2.3           4.0          1.3  Iris-versicolor\n",
      "54           6.5          2.8           4.6          1.5  Iris-versicolor\n",
      "residuals\n",
      "0   NaN\n",
      "1   NaN\n",
      "2   NaN\n",
      "3   NaN\n",
      "4   NaN\n",
      "Name: sepal_width, dtype: float64\n"
     ]
    },
    {
     "output_type": "display_data",
     "data": {
      "image/png": "[encoded data removed]",
      "text/plain": [
       "<Figure size 432x288 with 1 Axes>"
      ]
     },
     "metadata": {
      "needs_background": "light"
     }
    },
    {
     "output_type": "display_data",
     "data": {
      "image/png": "[encoded data removed]",
      "text/plain": [
       "<Figure size 432x288 with 1 Axes>"
      ]
     },
     "metadata": {
      "needs_background": "light"
     }
    },
    {
     "output_type": "stream",
     "name": "stdout",
     "text": [
      "Ttest_indResult(statistic=9.282772555558111, pvalue=4.362239016010214e-15)\n"
     ]
    }
   ],
   "metadata": {
    "id": "pniL-2qylgL0"
   }
  },
  {
   "cell_type": "code",
   "execution_count": 44,
   "source": [
    "# Example 3: Dependent T-test\n",
    "# ---\n",
    "# The paired sample t-test is also called dependent sample t-test. \n",
    "# It’s an univariate test that tests for a significant difference between 2 related variables. \n",
    "# An example of this is if you where to collect the blood pressure for an individual before \n",
    "# and after some treatment, condition, or time point.\n",
    "# ---\n",
    "# Question: Compute the t-test to see if there is a significant difference in blood pressure before and blood pressure after.\n",
    "# Dataset url = http://bit.ly/BloodPressureDataset\n",
    "# ---\n",
    "# \n",
    "df = pd.read_csv('http://bit.ly/BloodPressureDataset')\n",
    "df\n",
    "# In order for the paired sample t-test results to be trusted, the following assumptions need to be met:\n",
    "# 1. The dependent variable (DV) must be continuous which is measured on an interval or ratio scale\n",
    "# 2. The DV should be approximately normally distributed\n",
    "# - Testing for normality needs to be conducted on the differences between the two conditions, not the raw values of each condition itself\n",
    "# - The paired sample t-test is robust to this violation. If there is a violation of normality, as long as it’s not in a major violation the test results can be considered valid\n",
    "# 3. The DV should not contain any significant outliers\n",
    "# If any of these assumptions are violated, a different test should be used. \n",
    "# An alternative to the paired sample t-test is the Wilcoxon signed-rank Test.\n",
    "\n",
    "# Step 1: \n",
    "# Taking a look at our data\n",
    "# ---\n",
    "df[['bp_before','bp_after']].describe()\n",
    "\n",
    "# Step 2:\n",
    "# Checking for any significant outliers in each of the variables\n",
    "# ---\n",
    "df[['bp_before', 'bp_after']].plot(kind='box')\n",
    "\n",
    "# Step 2:\n",
    "# Remember that for the dependent sample T-test the normality check needs to be conducted on differences \n",
    "# between the two scores. There are a few ways one can test this assumption – make a histogram, use a Q-Q plot, \n",
    "# and/or use a statistical test. Let’s create a variable for the differences and run through these.\n",
    "\n",
    "# Step 3:\n",
    "# The histogram of our data seems to be normally distributed. \n",
    "# Another way to check for normally distributed data is to use a Q-Q plot. \n",
    "# If you’re unfamiliar with how to read a Q-Q plot, the data should be on the red line. \n",
    "# If it’s not, then it suggests that the data may not be normally distributed.\n",
    "# ---\n",
    "#stats.probplot(df['bp_difference'], plot= plt)\n",
    "# plt.title('Blood pressure Difference Q-Q Plot')\n",
    "\n",
    "# Step 4:\n",
    "# There is some deviation from normality, but it does not appear to be severe so there is no need to worry. \n",
    "# To be sure, let’s test this statistically to see if the data is normally distributed.\n",
    "# To test this, one can use the Shapiro-Wilk test for normality. Unfortunately the output is not labeled. \n",
    "# The first value is the W test value, and the second value it the p-value.\n",
    "# ---\n",
    "# stats.shapiro(df['bp_difference'])\n",
    "\n",
    "# Step 4:\n",
    "# The test was non-significant. Therefore, the difference between the two conditions is normally distributed. \n",
    "# If this test were to be significant, an appropriate alternative to use would be the Wilcoxon signed-rank Test.\n",
    "\n",
    "# Step 5:\n",
    "# To conduct the paired sample t-test, one needs to use the stats.ttest_rel() method.\n",
    "stats.ttest_rel(df['bp_before'], df['bp_after'])\n",
    "\n",
    "# Step 6: \n",
    "# We can conclude that the findings are statistically significant."
   ],
   "outputs": [
    {
     "output_type": "execute_result",
     "data": {
      "text/plain": [
       "Ttest_relResult(statistic=3.3371870510833657, pvalue=0.0011297914644840823)"
      ]
     },
     "metadata": {},
     "execution_count": 44
    },
    {
     "output_type": "display_data",
     "data": {
      "image/png": "[encoded data removed]",
      "text/plain": [
       "<Figure size 432x288 with 1 Axes>"
      ]
     },
     "metadata": {
      "needs_background": "light"
     }
    }
   ],
   "metadata": {}
  },
  {
   "cell_type": "markdown",
   "source": [
    "### <font color=\"green\">1.24 Challenges</font>"
   ],
   "metadata": {
    "id": "mKmXFgb5ujhh"
   }
  },
  {
   "cell_type": "code",
   "execution_count": 45,
   "source": [
    "# Challenge 1\n",
    "# ---\n",
    "# Compute the t-test for the means of two independent samples of scores; Group x and Group y\n",
    "m = [[1, 2, 3, 4, 5],\n",
    "    [6, 7, 8, 9, 10]]\n",
    "n = [[60, 70, 80, 90, 100],\n",
    "     [110, 120, 130, 140, 150]]\n",
    "# ---\n",
    "#\n",
    "\n",
    "print(m)\n",
    "t_statistic, p_value = ttest_ind(m, n)"
   ],
   "outputs": [
    {
     "output_type": "stream",
     "name": "stdout",
     "text": [
      "[[1, 2, 3, 4, 5], [6, 7, 8, 9, 10]]\n"
     ]
    }
   ],
   "metadata": {
    "colab": {
     "base_uri": "https://localhost:8080/",
     "height": 129
    },
    "id": "kUaIpFDn5-Pv",
    "outputId": "221e452f-f2d5-4aef-f140-0daf61f8e146"
   }
  },
  {
   "cell_type": "code",
   "execution_count": 57,
   "source": [
    "# Challenge 2\n",
    "# ---\n",
    "# Question: Determine if there is a significant difference in the sepal width \n",
    "# between the species Iris-setosa and Iris-virginica.\n",
    "# Dataset url = http://bit.ly/IrisDataset\n",
    "# --- \n",
    "# \n",
    "print(stats.ttest_ind(setosa['sepal_length'], versicolor['sepal_length']))\n",
    "#setosa.head()"
   ],
   "outputs": [
    {
     "output_type": "stream",
     "name": "stdout",
     "text": [
      "Ttest_indResult(statistic=-10.52098626754911, pvalue=8.985235037487077e-18)\n"
     ]
    }
   ],
   "metadata": {
    "id": "7wEURyFf-f7c"
   }
  },
  {
   "cell_type": "code",
   "execution_count": 59,
   "source": [
    "# Challenge 3\n",
    "# ---\n",
    "# Background: Par Inc., is a major manufacturer of golf equipment. Management believes that Par’s market\n",
    "# share could be increased with the introduction of a cut-resistant, longer-lasting golf ball. \n",
    "# Therefore, the research group at Par has been investigating a new golf ball coating designed \n",
    "# to resist cuts and provide a more durable ball. The tests with the coating have been promising. \n",
    "# One of the researchers voiced concern about the effect of the new coating on driving distances. \n",
    "# Par would like the new cut-resistant ball to offer driving distances comparable to those of the \n",
    "# current-model golf ball. To compare the driving distances for the two balls, \n",
    "# 40 balls of both the new and current models were subjected to distance tests. \n",
    "# The testing was performed with a mechanical hitting machine so that any difference between \n",
    "# the mean distances for the two models could be attributed to a difference in the design.\n",
    "# ---\n",
    "# Question: Determine if there is a significant differents in the current driving distances of golf balls without coating\n",
    "# and the new driving distances of golf balls with coating.\n",
    "# Dataset url = http://bit.ly/GolfDataset\n",
    "# \n",
    "# ---\n",
    "# \n",
    "balls = pd.read_csv('http://bit.ly/GolfDataset')\n",
    "balls.head()"
   ],
   "outputs": [
    {
     "output_type": "execute_result",
     "data": {
      "text/html": [
       "<div>\n",
       "<style scoped>\n",
       "    .dataframe tbody tr th:only-of-type {\n",
       "        vertical-align: middle;\n",
       "    }\n",
       "\n",
       "    .dataframe tbody tr th {\n",
       "        vertical-align: top;\n",
       "    }\n",
       "\n",
       "    .dataframe thead th {\n",
       "        text-align: right;\n",
       "    }\n",
       "</style>\n",
       "<table border=\"1\" class=\"dataframe\">\n",
       "  <thead>\n",
       "    <tr style=\"text-align: right;\">\n",
       "      <th></th>\n",
       "      <th>Current</th>\n",
       "      <th>New</th>\n",
       "    </tr>\n",
       "  </thead>\n",
       "  <tbody>\n",
       "    <tr>\n",
       "      <th>0</th>\n",
       "      <td>264</td>\n",
       "      <td>277</td>\n",
       "    </tr>\n",
       "    <tr>\n",
       "      <th>1</th>\n",
       "      <td>261</td>\n",
       "      <td>269</td>\n",
       "    </tr>\n",
       "    <tr>\n",
       "      <th>2</th>\n",
       "      <td>267</td>\n",
       "      <td>263</td>\n",
       "    </tr>\n",
       "    <tr>\n",
       "      <th>3</th>\n",
       "      <td>272</td>\n",
       "      <td>266</td>\n",
       "    </tr>\n",
       "    <tr>\n",
       "      <th>4</th>\n",
       "      <td>258</td>\n",
       "      <td>262</td>\n",
       "    </tr>\n",
       "  </tbody>\n",
       "</table>\n",
       "</div>"
      ],
      "text/plain": [
       "   Current  New\n",
       "0      264  277\n",
       "1      261  269\n",
       "2      267  263\n",
       "3      272  266\n",
       "4      258  262"
      ]
     },
     "metadata": {},
     "execution_count": 59
    }
   ],
   "metadata": {
    "id": "_WTIUyF8UAIk"
   }
  },
  {
   "cell_type": "code",
   "execution_count": 61,
   "source": [
    "balls.describe()"
   ],
   "outputs": [
    {
     "output_type": "execute_result",
     "data": {
      "text/html": [
       "<div>\n",
       "<style scoped>\n",
       "    .dataframe tbody tr th:only-of-type {\n",
       "        vertical-align: middle;\n",
       "    }\n",
       "\n",
       "    .dataframe tbody tr th {\n",
       "        vertical-align: top;\n",
       "    }\n",
       "\n",
       "    .dataframe thead th {\n",
       "        text-align: right;\n",
       "    }\n",
       "</style>\n",
       "<table border=\"1\" class=\"dataframe\">\n",
       "  <thead>\n",
       "    <tr style=\"text-align: right;\">\n",
       "      <th></th>\n",
       "      <th>Current</th>\n",
       "      <th>New</th>\n",
       "    </tr>\n",
       "  </thead>\n",
       "  <tbody>\n",
       "    <tr>\n",
       "      <th>count</th>\n",
       "      <td>40.000000</td>\n",
       "      <td>40.000000</td>\n",
       "    </tr>\n",
       "    <tr>\n",
       "      <th>mean</th>\n",
       "      <td>270.275000</td>\n",
       "      <td>267.500000</td>\n",
       "    </tr>\n",
       "    <tr>\n",
       "      <th>std</th>\n",
       "      <td>8.752985</td>\n",
       "      <td>9.896904</td>\n",
       "    </tr>\n",
       "    <tr>\n",
       "      <th>min</th>\n",
       "      <td>255.000000</td>\n",
       "      <td>250.000000</td>\n",
       "    </tr>\n",
       "    <tr>\n",
       "      <th>25%</th>\n",
       "      <td>263.000000</td>\n",
       "      <td>262.000000</td>\n",
       "    </tr>\n",
       "    <tr>\n",
       "      <th>50%</th>\n",
       "      <td>270.000000</td>\n",
       "      <td>265.000000</td>\n",
       "    </tr>\n",
       "    <tr>\n",
       "      <th>75%</th>\n",
       "      <td>275.250000</td>\n",
       "      <td>274.500000</td>\n",
       "    </tr>\n",
       "    <tr>\n",
       "      <th>max</th>\n",
       "      <td>289.000000</td>\n",
       "      <td>289.000000</td>\n",
       "    </tr>\n",
       "  </tbody>\n",
       "</table>\n",
       "</div>"
      ],
      "text/plain": [
       "          Current         New\n",
       "count   40.000000   40.000000\n",
       "mean   270.275000  267.500000\n",
       "std      8.752985    9.896904\n",
       "min    255.000000  250.000000\n",
       "25%    263.000000  262.000000\n",
       "50%    270.000000  265.000000\n",
       "75%    275.250000  274.500000\n",
       "max    289.000000  289.000000"
      ]
     },
     "metadata": {},
     "execution_count": 61
    }
   ],
   "metadata": {}
  },
  {
   "cell_type": "code",
   "execution_count": 63,
   "source": [
    "print(stats.ttest_ind(balls['Current'], balls['New']))\n",
    "#setosa.head()"
   ],
   "outputs": [
    {
     "output_type": "stream",
     "name": "stdout",
     "text": [
      "Ttest_indResult(statistic=1.3283615935245678, pvalue=0.18793228491854663)\n"
     ]
    }
   ],
   "metadata": {}
  },
  {
   "cell_type": "code",
   "execution_count": null,
   "source": [],
   "outputs": [],
   "metadata": {}
  }
 ],
 "metadata": {
  "colab": {
   "collapsed_sections": [
    "R-LF2g-wFZAy",
    "J5_LC2_Crgta",
    "z0Ka3v_5r6nN",
    "E-LqHxw-s1ix",
    "ZXFWumZhr6Ex",
    "oElZ1j7itA2H",
    "H9vGX6dirmHL",
    "eaygizicsMIy",
    "ExMqwGE1sZV-",
    "JZFIpijOrqbM",
    "1SBigmCQtYR-",
    "B3f7oOaVuGoG",
    "JtjPD6J3tpXH",
    "BQXexlSluX-X",
    "ocEXb9JMtuq0",
    "mKmXFgb5ujhh"
   ],
   "name": "Copy of Bivariate Analysis with Python - Exercise",
   "provenance": []
  },
  "interpreter": {
   "hash": "8e24f623c9d976e65e43b538ecbbc4d478524c94015e92b14b460358aba5245a"
  },
  "kernelspec": {
   "name": "python3",
   "display_name": "Python 3.8.5 64-bit ('base': conda)"
  },
  "language_info": {
   "codemirror_mode": {
    "name": "ipython",
    "version": 3
   },
   "file_extension": ".py",
   "mimetype": "text/x-python",
   "name": "python",
   "nbconvert_exporter": "python",
   "pygments_lexer": "ipython3",
   "version": "3.8.5"
  }
 },
 "nbformat": 4,
 "nbformat_minor": 1
}